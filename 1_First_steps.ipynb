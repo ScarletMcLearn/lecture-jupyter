{
 "cells": [
  {
   "cell_type": "markdown",
   "metadata": {},
   "source": [
    "# 1. First steps with *Python* on *Jupyter*"
   ]
  },
  {
   "cell_type": "markdown",
   "metadata": {},
   "source": [
    "### Goal\n",
    "\n",
    "Here we will dive into the basics of the *Python* syntax and learn the usage of *Jupyther* notebooks. Besides other exercises you will make your computer speak to you."
   ]
  },
  {
   "cell_type": "markdown",
   "metadata": {},
   "source": [
    "## 1.1 Usage of ```jupyter notbook```\n",
    "\n",
    "- To execute a cell press \"SHIFT-RETURN\"\n",
    "- Use the tool bar to add, delete, copy, or insert cells\n",
    "\n",
    "### *1.1 TASKS*\n",
    "- Execute the cell to print the encrypted message."
   ]
  },
  {
   "cell_type": "code",
   "execution_count": 146,
   "metadata": {
    "collapsed": false
   },
   "outputs": [],
   "source": [
    "message = \"ssliata )oeo e(    ecotd ecroPsn-  id hfbesretrogi.noes js  nc  hsedae d iloyaanea oenr n iiiottthasfoeoe,cug osaRsovf lehv,mTolt trpuntaaemyexuitah adcmtisahoonnrr s o tc ualm   Gbdo  lr  bhlr a sctd  eoe scenhnfidlt oa\""
   ]
  },
  {
   "cell_type": "markdown",
   "metadata": {},
   "source": [
    "- Use your programming intuition and decrypyt the message by using the function ```decrypt(...)```."
   ]
  },
  {
   "cell_type": "code",
   "execution_count": 161,
   "metadata": {
    "collapsed": false
   },
   "outputs": [],
   "source": [
    "def encrypt(message):\n",
    "    \"\"\"Encrypt the string message\"\"\"\n",
    "    import numpy\n",
    "    numpy.random.seed(0)\n",
    "    L1 = numpy.arange(len(message))\n",
    "    numpy.random.shuffle(L1)\n",
    "    message_encr = \"\"\n",
    "    for i in L1:\n",
    "        message_encr += message[i]\n",
    "    print message_encr\n",
    "    return message_encr\n",
    "\n",
    "def decrypt(message):\n",
    "    \"\"\"Decrypt the string message\"\"\"\n",
    "    import numpy\n",
    "    numpy.random.seed(0)\n",
    "    L0 = numpy.arange(len(message))\n",
    "    L1 = numpy.arange(len(message))\n",
    "    numpy.random.shuffle(L1)\n",
    "    order = [L0[L1==i][0] for i in L0]\n",
    "    message_decr = \"\"\n",
    "    for i in order:\n",
    "        message_decr += message[i]\n",
    "    print message_decr\n",
    "    return message_decr"
   ]
  },
  {
   "cell_type": "code",
   "execution_count": 162,
   "metadata": {
    "collapsed": true
   },
   "outputs": [],
   "source": [
    "# TYPE YOUR CODE HERE"
   ]
  },
  {
   "cell_type": "markdown",
   "metadata": {},
   "source": [
    "## 1.2 Variables\n",
    "\n",
    "A variable is something that holds a value that may change. In simplest terms, a variable is just a box that you can put stuff in. You can use variables to store all kinds of stuff. For example the integer number 123456:"
   ]
  },
  {
   "cell_type": "code",
   "execution_count": 72,
   "metadata": {
    "collapsed": true
   },
   "outputs": [],
   "source": [
    "variable_0 = 123456"
   ]
  },
  {
   "cell_type": "markdown",
   "metadata": {},
   "source": [
    "#### Data types\n",
    "\n",
    "A selection of Python data types is given here:\n",
    "\n",
    "|Data type   | Examples                                                 |\n",
    "|------------|----------------------------------------------------------|\n",
    "|```bool```  |either ```True``` or ```False```                          |\n",
    "|```int```   |1, 6, -1, 0, 3244, ...                                    |\n",
    "|```float``` |3.14, -43535.345, 0.0, ...                                |\n",
    "|```str```   |\"Hello world!\", \"nothing\", ...                            |\n",
    "|```list```  |[```True```, 1, 3.14, \"Hello!\", [1,2,34]], ...            |\n",
    "|```dict```  |{\"some key\": 1.24233, \"another key\": \"anything\"}, ...     |\n",
    "\n",
    "*Examples:*"
   ]
  },
  {
   "cell_type": "code",
   "execution_count": 181,
   "metadata": {
    "collapsed": false
   },
   "outputs": [],
   "source": [
    "# bool \n",
    "a = True\n",
    "b = False\n",
    "\n",
    "# int\n",
    "c = -2\n",
    "d = 24389\n",
    "\n",
    "# float\n",
    "e = 3.1\n",
    "f = -2342.4324\n",
    "\n",
    "# str\n",
    "g = \"Hello!\"\n",
    "\n",
    "# list\n",
    "h = [1,5,23,-1]\n",
    "j = [a,b,c,d,e,f,g,h,\"I can put anything in a list! :)\"]\n",
    "k = range(10)\n",
    "\n",
    "# dict\n",
    "l = {\"key1\": \"any content\", \"key2\": 13, \"key1000\": [1,4,6]}"
   ]
  },
  {
   "cell_type": "markdown",
   "metadata": {},
   "source": [
    "#### Operators\n",
    "\n",
    "- Comparisons: \"==\", \">\", \"<\", \">=\", \"<=\", ...\n",
    "- Calculations: \"+\", \"-\", \"*\", \"/\", ..."
   ]
  },
  {
   "cell_type": "code",
   "execution_count": 182,
   "metadata": {
    "collapsed": false
   },
   "outputs": [],
   "source": [
    "# Comparisons\n",
    "print a == b\n",
    "print b == False\n",
    "print c > d\n",
    "print c >= c\n",
    "# If statements\n",
    "if g == \"Hello!\":\n",
    "    print \"\\'g\\' equals the string \\\"Hello!\\\"\"\n",
    "else:\n",
    "    print \"\\'g\\' does not equal the string \\\"Hello!\\\".\"    "
   ]
  },
  {
   "cell_type": "code",
   "execution_count": 183,
   "metadata": {
    "collapsed": false
   },
   "outputs": [],
   "source": [
    "# Calculations\n",
    "print e + f\n",
    "print h + j"
   ]
  },
  {
   "cell_type": "markdown",
   "metadata": {},
   "source": [
    "### *1.2 TASKS*\n",
    "\n",
    "- Define a list ```names``` that contains the names of you and the students who sit next to you.\n",
    "- Add all items of the list ```teachers``` to ```names``` using a calculation operator."
   ]
  },
  {
   "cell_type": "code",
   "execution_count": 184,
   "metadata": {
    "collapsed": true
   },
   "outputs": [],
   "source": [
    "# TYPE YOUR CODE HERE"
   ]
  },
  {
   "cell_type": "markdown",
   "metadata": {},
   "source": [
    "## 1.3 Loops\n",
    "\n",
    "Using _for_-loops allow you to run repeated tasks on a sequence of data. "
   ]
  },
  {
   "cell_type": "code",
   "execution_count": 198,
   "metadata": {
    "collapsed": false
   },
   "outputs": [],
   "source": [
    "# Example 1\n",
    "for letter in \"abcde\":\n",
    "    print letter"
   ]
  },
  {
   "cell_type": "code",
   "execution_count": 199,
   "metadata": {
    "collapsed": false
   },
   "outputs": [],
   "source": [
    "# Example 2\n",
    "for h_i in h:\n",
    "    print h_i"
   ]
  },
  {
   "cell_type": "code",
   "execution_count": 200,
   "metadata": {
    "collapsed": false
   },
   "outputs": [],
   "source": [
    "# Example 3\n",
    "for i in range(len(h)):\n",
    "    print i, h[i]"
   ]
  },
  {
   "cell_type": "code",
   "execution_count": 201,
   "metadata": {
    "collapsed": false
   },
   "outputs": [],
   "source": [
    "# Example 4\n",
    "for key in l.keys():\n",
    "    print key, l[key]"
   ]
  },
  {
   "cell_type": "markdown",
   "metadata": {},
   "source": [
    "### *1.3 TASKS*\n",
    "\n",
    "Use a ```for``` loop to print items of your list ```names``` in inverse order (without changing the list ```names``` itself)."
   ]
  },
  {
   "cell_type": "code",
   "execution_count": 167,
   "metadata": {
    "collapsed": true
   },
   "outputs": [],
   "source": [
    "# TYPE YOU CODE HERE"
   ]
  },
  {
   "cell_type": "markdown",
   "metadata": {},
   "source": [
    "## 1.4 Using external packages\n",
    "\n",
    "There is a huge amount of useful Python packages. Many packages are already shipped with your Python installation, others you need to install for example with the command line package manager _pip_.\n",
    "\n",
    "Before using them in your code you must \"_import_\" the package."
   ]
  },
  {
   "cell_type": "code",
   "execution_count": 154,
   "metadata": {
    "collapsed": true
   },
   "outputs": [],
   "source": [
    "# We import the standard \"os\" package (https://docs.python.org/2/library/os.html).\n",
    "import os"
   ]
  },
  {
   "cell_type": "markdown",
   "metadata": {},
   "source": [
    "Look up the help message for the function _os.system(...)_ by executing"
   ]
  },
  {
   "cell_type": "code",
   "execution_count": 42,
   "metadata": {
    "collapsed": false
   },
   "outputs": [],
   "source": [
    "help(os.system)"
   ]
  },
  {
   "cell_type": "markdown",
   "metadata": {},
   "source": [
    "### *1.4 TASKS*\n",
    "\n",
    "Use _os.system(...)_ to call the command line tool _say_. Let your computer read out loud the above quote by Guido van Rossum."
   ]
  },
  {
   "cell_type": "code",
   "execution_count": 189,
   "metadata": {
    "collapsed": false
   },
   "outputs": [],
   "source": [
    "# Example\n",
    "command = \"say \" + \"something\"\n",
    "os.system(command)"
   ]
  },
  {
   "cell_type": "code",
   "execution_count": 190,
   "metadata": {
    "collapsed": true
   },
   "outputs": [],
   "source": [
    "# TYPE YOUR CODE HERE"
   ]
  }
 ],
 "metadata": {
  "kernelspec": {
   "display_name": "Python 2",
   "language": "python",
   "name": "python2"
  },
  "language_info": {
   "codemirror_mode": {
    "name": "ipython",
    "version": 2
   },
   "file_extension": ".py",
   "mimetype": "text/x-python",
   "name": "python",
   "nbconvert_exporter": "python",
   "pygments_lexer": "ipython2",
   "version": "2.7.10"
  }
 },
 "nbformat": 4,
 "nbformat_minor": 0
}
