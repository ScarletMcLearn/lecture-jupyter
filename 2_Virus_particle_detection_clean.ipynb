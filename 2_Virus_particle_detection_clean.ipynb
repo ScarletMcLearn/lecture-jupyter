{
 "cells": [
  {
   "cell_type": "markdown",
   "metadata": {},
   "source": [
    "# 3. Process and display data in two dimensions"
   ]
  },
  {
   "cell_type": "markdown",
   "metadata": {},
   "source": [
    "### Goal\n",
    "\n",
    "Here we intent to write a piece of code that allows us to detect virus particles automatically from an electron microscopy image."
   ]
  },
  {
   "cell_type": "markdown",
   "metadata": {},
   "source": [
    "As a first step we activate the *pylab inline* environment and we also import a package that makes it possible for us to read electron microscopy images in *MRC* file format."
   ]
  },
  {
   "cell_type": "code",
   "execution_count": 372,
   "metadata": {
    "collapsed": false
   },
   "outputs": [
    {
     "name": "stdout",
     "output_type": "stream",
     "text": [
      "Populating the interactive namespace from numpy and matplotlib\n"
     ]
    }
   ],
   "source": [
    "%pylab inline\n",
    "import utils"
   ]
  },
  {
   "cell_type": "markdown",
   "metadata": {},
   "source": [
    "We read the image and use the function ```imshow(...)``` to display it."
   ]
  },
  {
   "cell_type": "code",
   "execution_count": 2,
   "metadata": {
    "collapsed": false
   },
   "outputs": [],
   "source": [
    "# Read image from MRC file\n",
    "I_raw = utils.read_mrc(\"./data/480-bin.mrc\")\n",
    "figure()\n",
    "imshow(I_raw, cmap='gray')"
   ]
  },
  {
   "cell_type": "markdown",
   "metadata": {},
   "source": [
    "### *3. TASKS*\n",
    "\n",
    "Complete the following function definitions together with your neighbor. Make use of the suggested functions from the _skimage_ package. The assert statements will raise errors if you made mistakes."
   ]
  },
  {
   "cell_type": "markdown",
   "metadata": {},
   "source": [
    "*** A) Crop image ***\n",
    "\n",
    "Remove the region in the upper right that shows the sample holder by cropping the image to a size of 1600 x 1600 pixels.\n",
    "\n",
    "Use the slicing functionality of numpy arrays: for 2D data ```any_array[start_y_axis:end_y_axis, start_x_axis:end_x_axis]```\n",
    "\n",
    "*Help:* http://structure.usc.edu/numarray/node26.html"
   ]
  },
  {
   "cell_type": "code",
   "execution_count": 4,
   "metadata": {
    "collapsed": false
   },
   "outputs": [],
   "source": [
    "# Example\n",
    "example_array = array([[1,2,3,4],\n",
    "                       [5,6,7,8]])\n",
    "print example_array\n",
    "print example_array[0:2, 2:3]"
   ]
  },
  {
   "cell_type": "code",
   "execution_count": 387,
   "metadata": {
    "collapsed": true
   },
   "outputs": [],
   "source": [
    "def crop_image(image, N=1600):\n",
    "    #########################\n",
    "    # INSERT YOUR CODE HERE #\n",
    "    #########################\n",
    "    assert image_out.shape[0] == N\n",
    "    assert image_out.shape[1] == N\n",
    "    assert (image[:image_out.shape[0],:image_out.shape[1]]==image_out[:,:]).all()\n",
    "    return image_out"
   ]
  },
  {
   "cell_type": "code",
   "execution_count": 6,
   "metadata": {
    "collapsed": false
   },
   "outputs": [],
   "source": [
    "# TEST\n",
    "I_test = random.rand(4,4).round(1)\n",
    "I_test_cropped = crop_image(I_test.copy(), N=2)\n",
    "fig, (ax1, ax2) = subplots(1, 2)\n",
    "ax1.imshow(I_test, interpolation='nearest', cmap='binary', vmin=0., vmax=1.)\n",
    "for x in range(I_test.shape[1]):\n",
    "    for y in range(I_test.shape[0]):\n",
    "        ax1.text(x, y, \"%.1f\" % I_test[y,x], va='center', ha='center')\n",
    "ax2.imshow(I_test_cropped, interpolation='nearest', cmap='binary', vmin=0., vmax=1.)\n",
    "ax1.set_title(\"Input\")\n",
    "for x in range(I_test_cropped.shape[1]):\n",
    "    for y in range(I_test_cropped.shape[0]):\n",
    "        ax2.text(x, y, \"%.2f\" % I_test_cropped[y,x], va='center', ha='center')\n",
    "ax2.set_title(\"Cropped\")"
   ]
  },
  {
   "cell_type": "markdown",
   "metadata": {},
   "source": [
    "*** B) Downscale image ***\n",
    "\n",
    "Let us combine pixels by averaging neighboring pixels. This will make the image less noisy and smaller in memory.\n",
    "\n",
    "Use the function ```skimage.transform.downscale_local_mean(...)```.\n",
    "\n",
    "*Help:* http://scikit-image.org/docs/dev/api/skimage.transform.html#skimage.transform.downscale_local_mean"
   ]
  },
  {
   "cell_type": "code",
   "execution_count": 390,
   "metadata": {
    "collapsed": true
   },
   "outputs": [],
   "source": [
    "def downscale_image(image, factor=4):\n",
    "    import skimage.transform\n",
    "    #########################\n",
    "    # INSERT YOUR CODE HERE #\n",
    "    #########################\n",
    "    assert image.shape[0]/factor == image_out.shape[0]\n",
    "    assert image.shape[1]/factor == image_out.shape[1]\n",
    "    assert isclose(image[:factor,:factor].mean(), image_out[0,0])\n",
    "    return image_out"
   ]
  },
  {
   "cell_type": "code",
   "execution_count": 7,
   "metadata": {
    "collapsed": false
   },
   "outputs": [],
   "source": [
    "# TEST\n",
    "I_test = random.rand(4,4).round(1)\n",
    "I_test_downscaled = downscale_image(I_test.copy(), factor=2)\n",
    "\n",
    "fig, (ax1, ax2) = subplots(1, 2)\n",
    "ax1.imshow(I_test, interpolation='nearest', cmap='binary', vmin=0., vmax=1.)\n",
    "for x in range(I_test.shape[1]):\n",
    "    for y in range(I_test.shape[0]):\n",
    "        ax1.text(x, y, \"%.1f\" % I_test[y,x], va='center', ha='center')\n",
    "ax1.set_title(\"Input\")\n",
    "\n",
    "ax2.imshow(I_test_cropped, interpolation='nearest', cmap='binary', vmin=0., vmax=1.)\n",
    "for x in range(I_test_downscaled.shape[1]):\n",
    "    for y in range(I_test_downscaled.shape[0]):\n",
    "        ax2.text(x, y, \"%.2f\" % I_test_downscaled[y,x], va='center', ha='center')\n",
    "ax2.set_title(\"Downscaled\")"
   ]
  },
  {
   "cell_type": "markdown",
   "metadata": {},
   "source": [
    "*** C) Blur image ***\n",
    "\n",
    "Let us blur the image slightly to further reduce noise.\n",
    "\n",
    "Use the function ```skimage.filters.gaussian(...)```.\n",
    "\n",
    "*Help:* http://scikit-image.org/docs/dev/api/skimage.filters.html#skimage.filters.gaussian"
   ]
  },
  {
   "cell_type": "code",
   "execution_count": 392,
   "metadata": {
    "collapsed": false
   },
   "outputs": [],
   "source": [
    "def blur_image(image, sigma=2):\n",
    "    import skimage.filters\n",
    "    #########################\n",
    "    # INSERT YOUR CODE HERE #\n",
    "    #########################\n",
    "    return image_out"
   ]
  },
  {
   "cell_type": "code",
   "execution_count": 8,
   "metadata": {
    "collapsed": false
   },
   "outputs": [],
   "source": [
    "# TEST\n",
    "I_test = zeros(shape=(5, 5))\n",
    "I_test[2,2] = 1\n",
    "I_test_blured = blur_image(I_test.copy(), sigma=1.)\n",
    "fig, (ax1, ax2) = subplots(1, 2)\n",
    "ax1.imshow(I_test, interpolation='nearest', cmap='binary', vmin=0., vmax=1.)\n",
    "for x in range(I_test.shape[1]):\n",
    "    for y in range(I_test.shape[0]):\n",
    "        ax1.text(x, y, \"%.1f\" % I_test[y,x], va='center', ha='center')\n",
    "ax1.set_title(\"Input\")\n",
    "ax2.imshow(I_test_blured, interpolation='nearest', cmap='binary', vmin=0., vmax=1.)\n",
    "for x in range(I_test_blured.shape[1]):\n",
    "    for y in range(I_test_blured.shape[0]):\n",
    "        ax2.text(x, y, \"%.2f\" % I_test_blured[y,x], va='center', ha='center')\n",
    "ax2.set_title(\"Blured\")"
   ]
  },
  {
   "cell_type": "markdown",
   "metadata": {},
   "source": [
    "*** D) Threshold image ***\n",
    "\n",
    "By thresholding we are produing a binary representation of the image.\n",
    "\n",
    "- Use the \">\"-operator to create a binary image by thresholding.\n",
    "\n",
    "*Documentation:* https://docs.scipy.org/doc/numpy-dev/user/quickstart.html#basic-operations"
   ]
  },
  {
   "cell_type": "code",
   "execution_count": 394,
   "metadata": {
    "collapsed": true
   },
   "outputs": [],
   "source": [
    "def threshold_image(image, threshold=0.1):\n",
    "    #########################\n",
    "    # INSERT YOUR CODE HERE #\n",
    "    #########################\n",
    "    assert image_out.max() <= 1\n",
    "    assert image_out.min() >= 0\n",
    "    assert image_out.shape[0] == image.shape[0]\n",
    "    assert image_out.shape[1] == image.shape[1]\n",
    "    return image_out"
   ]
  },
  {
   "cell_type": "code",
   "execution_count": 9,
   "metadata": {
    "collapsed": false
   },
   "outputs": [],
   "source": [
    "# TEST YOUR CODE\n",
    "def generate_test_image(N=1000):\n",
    "    X,Y = meshgrid(arange(N), arange(N))\n",
    "    I_test = rand(N,N)*0.5+2*X/float(N)\n",
    "    I_test[abs(((X-N/2)**2+(Y-N/2)**2)-(N/3)**2)<(N/10)**2] += 1.0\n",
    "    I_test /= I_test.max()\n",
    "    return I_test\n",
    "\n",
    "I_test = generate_test_image()\n",
    "I_test_out = threshold_image(I_test, threshold=0.4)\n",
    "\n",
    "fig, (ax1, ax2) = subplots(1, 2)\n",
    "ax1.imshow(I_test, interpolation='nearest', cmap='binary')\n",
    "ax1.set_title(\"Input\")\n",
    "ax2.imshow(I_test_out, interpolation='nearest', cmap='binary', vmin=0., vmax=1.)\n",
    "ax2.set_title(\"Thresholded\")"
   ]
  },
  {
   "cell_type": "markdown",
   "metadata": {},
   "source": [
    "- Use adaptive thresholding with the function ```skimage.filters.threshold_adaptive(...)``` to improve the result.\n",
    "\n",
    "*Documentation:* http://scikit-image.org/docs/dev/api/skimage.filters.html#skimage.filters.threshold_adaptive"
   ]
  },
  {
   "cell_type": "code",
   "execution_count": 396,
   "metadata": {
    "collapsed": false
   },
   "outputs": [],
   "source": [
    "def adaptive_threshold_image(image, block_size=201, offset=-0.05):\n",
    "    #########################\n",
    "    # INSERT YOUR CODE HERE #\n",
    "    #########################\n",
    "    assert image_out.max() <= 1\n",
    "    assert image_out.min() >= 0\n",
    "    assert image_out.shape[0] == image.shape[0]\n",
    "    assert image_out.shape[1] == image.shape[1]\n",
    "    return image_out"
   ]
  },
  {
   "cell_type": "code",
   "execution_count": 10,
   "metadata": {
    "collapsed": false
   },
   "outputs": [],
   "source": [
    "# TEST\n",
    "I_test = generate_test_image()\n",
    "I_test_out = adaptive_threshold_image(I_test)\n",
    "\n",
    "fig, (ax1, ax2) = subplots(1, 2)\n",
    "ax1.imshow(I_test, interpolation='nearest', cmap='binary', vmin=0., vmax=1.)\n",
    "ax1.set_title(\"Input\")\n",
    "ax2.imshow(I_test_out, interpolation='nearest', cmap='binary', vmin=0., vmax=1.)\n",
    "ax2.set_title(\"Thresholded (adaptive)\")"
   ]
  },
  {
   "cell_type": "markdown",
   "metadata": {},
   "source": [
    "***C) Detect circles***\n",
    "\n",
    "We are using the Hough transform to detect circular edges in the binary image.\n",
    "\n",
    "Documentation: http://scikit-image.org/docs/dev/api/skimage.transform.html?highlight=hough#skimage.transform.hough_circle\n",
    "\n",
    "Wikipedia: https://en.wikipedia.org/wiki/Hough_transform"
   ]
  },
  {
   "cell_type": "code",
   "execution_count": 385,
   "metadata": {
    "collapsed": false
   },
   "outputs": [],
   "source": [
    "# This function returns circle positions and radii from a provided binary image\n",
    "def detect_circles_in_image(binary_image, n_circles=10, radius_min=10, radius_max=25,\n",
    "                            blur=2., min_distance=20, num_peaks=10):\n",
    "    H_radii = arange(radius_min, radius_max+1, 1)\n",
    "    H = hough_circle(binary_image, H_radii)\n",
    "    Hmax = H.max(axis=0)\n",
    "    Hmax = gaussian_filter(Hmax, blur)\n",
    "    positions = peak_local_max(Hmax, min_distance=min_distance, num_peaks=num_peaks)\n",
    "    radii = []\n",
    "    for py,px in positions: \n",
    "        i = H[:,py,px].argmax()\n",
    "        radii.append(H_radii[i])\n",
    "    return positions, radii"
   ]
  },
  {
   "cell_type": "markdown",
   "metadata": {},
   "source": [
    "## ***FINALLY: TEST YOUR CODE ON REAL EM DATA***"
   ]
  },
  {
   "cell_type": "code",
   "execution_count": null,
   "metadata": {
    "collapsed": true
   },
   "outputs": [],
   "source": [
    "# Crop image to 1600x1600\n",
    "I_cropped = crop_image(I_raw)\n",
    "# Downscaled image 4x4\n",
    "I_downscale = downscale_image(I_cropped)\n",
    "# Blur image to reduce high-frequency noise for thresholding\n",
    "I_blured = blur_image(I_downsampled)\n",
    "\n",
    "# Constant threshold\n",
    "I_thresholded0 = threshold_image(I_blured)\n",
    "# Detect circles\n",
    "positions0, radii0 = detect_circles_in_image(I_thresholded0)\n",
    "\n",
    "# Local threshold for patches larger than a virus\n",
    "I_thresholded1 = adaptive_threshold_image(I_blured)\n",
    "# Detect circles\n",
    "positions1, radii1 = detect_circles_in_image(I_thresholded1)\n",
    "\n",
    "# Show results\n",
    "images = [I_raw, I_downsampled, I_cropped, I_blured, I_thresholded0, I_thresholded1]\n",
    "titles = [\"Raw\", \"Downscaled\", \"Cropped\", \"Blured\", \"Thresholded\", \"Thresholded (adaptive)\"]\n",
    "fig, axs = subplots(len(images), 1, figsize=(10, 8*len(images)))\n",
    "for ax,i,t in zip(axs, images, titles):\n",
    "    ax.set_title(t)\n",
    "    ax.imshow(i, cmap='gray')\n",
    "    #ax.set_axis_off()\n",
    "for ax, positions, radii in zip([axs[-2], axs[-1]], [positions0, positions1], [radii0, radii1]):\n",
    "    for (y,x),r in zip(positions, radii): \n",
    "        circle = Circle((x,y), r, color='red', fill=False)\n",
    "        ax.add_artist(circle)\n",
    "        ax.text(x, y+r, \"(%i,%i) %i\" % (x, y, r), ha='center', va='center', color='red',\n",
    "                bbox=dict(facecolor='white', alpha=0.9, lw=0))\n",
    "tight_layout()"
   ]
  }
 ],
 "metadata": {
  "kernelspec": {
   "display_name": "Python 2",
   "language": "python",
   "name": "python2"
  },
  "language_info": {
   "codemirror_mode": {
    "name": "ipython",
    "version": 2
   },
   "file_extension": ".py",
   "mimetype": "text/x-python",
   "name": "python",
   "nbconvert_exporter": "python",
   "pygments_lexer": "ipython2",
   "version": "2.7.10"
  }
 },
 "nbformat": 4,
 "nbformat_minor": 1
}
