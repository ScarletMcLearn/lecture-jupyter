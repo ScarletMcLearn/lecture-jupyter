{
 "cells": [
  {
   "cell_type": "markdown",
   "metadata": {},
   "source": [
    "# 2. Plotting data"
   ]
  },
  {
   "cell_type": "markdown",
   "metadata": {},
   "source": [
    "We are using the _%pylab inline_ command to load numpy (math functions) and matplotlib (plotting functions) into the global name space and to activate interactive support.\n",
    "\n",
    "Useful links for numpy:\n",
    "- http://www.numpy.org/\n",
    "- https://www.scipy.org/\n",
    "\n",
    "Useful links for matplotlib:\n",
    "- http://matplotlib.org/\n",
    "- http://seaborn.pydata.org/"
   ]
  },
  {
   "cell_type": "code",
   "execution_count": 174,
   "metadata": {
    "collapsed": false
   },
   "outputs": [],
   "source": [
    "%pylab inline"
   ]
  },
  {
   "cell_type": "markdown",
   "metadata": {},
   "source": [
    "## 2.1 _Numpy_ arrays\n",
    "\n",
    "A _numpy_ array is a table of elements (usually numbers), all of the same data type, indexed by a tuple of positive integers. In _numpy_ dimensions are called \"axes\"."
   ]
  },
  {
   "cell_type": "code",
   "execution_count": 175,
   "metadata": {
    "collapsed": true
   },
   "outputs": [],
   "source": [
    "array_1 = array([1, 2, 3, 6, 0])\n",
    "array_2 = array([1.435, 2.2345, -3.324, 6.23, 0.324])"
   ]
  },
  {
   "cell_type": "markdown",
   "metadata": {},
   "source": [
    "### *2.1 TASKS*"
   ]
  },
  {
   "cell_type": "markdown",
   "metadata": {},
   "source": [
    "Look what you can do with numpy arrays! Find out what each of the following line does and discuss with your neighbor."
   ]
  },
  {
   "cell_type": "code",
   "execution_count": 176,
   "metadata": {
    "collapsed": false
   },
   "outputs": [],
   "source": [
    "print (array_1 + array_2)\n",
    "print (array_1 * array_2)\n",
    "print (array_1 / array_2)\n",
    "print (array_1**2)\n",
    "print (array_1 > array_2)\n",
    "print array_1.sum()\n",
    "print array_1.mean()"
   ]
  },
  {
   "cell_type": "markdown",
   "metadata": {},
   "source": [
    "## 2.2 Plot data"
   ]
  },
  {
   "cell_type": "markdown",
   "metadata": {},
   "source": [
    "Read the *help* text of the function ```plot(...)``` and use it to plot ```array_1``` against ```array_2```."
   ]
  },
  {
   "cell_type": "code",
   "execution_count": 177,
   "metadata": {
    "collapsed": true
   },
   "outputs": [],
   "source": [
    "# TYPE YOUR CODE HERE"
   ]
  },
  {
   "cell_type": "markdown",
   "metadata": {},
   "source": [
    "### *2.2 TASKS*"
   ]
  },
  {
   "cell_type": "markdown",
   "metadata": {},
   "source": [
    "Load the package _pandas_ and use the function ```pandas.read_excel(...)``` to read the Excel file *./data/goldstandardFSC.xlsx*. Have a look at the data first by opening this file in Excel. Use ```plot(...)``` to display the values in column namned *FSC* vs. values of the column named *Resolution*. Work together with your neighbor!\n",
    "\n",
    "***Extras:***\n",
    "- use the function ```savefig(...)``` and store your plot as an EPS file\n",
    "- add the labels *Resolution* and *FSC* to the respective axis\n",
    "- change the color of the plot curve\n",
    "- use the function ```axvline(...)``` to draw a vertical where the ```FSC``` drops below 0.5"
   ]
  },
  {
   "cell_type": "code",
   "execution_count": 178,
   "metadata": {
    "collapsed": true
   },
   "outputs": [],
   "source": [
    "# TYPE YOUR CODE HERE"
   ]
  },
  {
   "cell_type": "code",
   "execution_count": null,
   "metadata": {
    "collapsed": true
   },
   "outputs": [],
   "source": []
  }
 ],
 "metadata": {
  "kernelspec": {
   "display_name": "Python 2",
   "language": "python",
   "name": "python2"
  },
  "language_info": {
   "codemirror_mode": {
    "name": "ipython",
    "version": 2
   },
   "file_extension": ".py",
   "mimetype": "text/x-python",
   "name": "python",
   "nbconvert_exporter": "python",
   "pygments_lexer": "ipython2",
   "version": "2.7.10"
  }
 },
 "nbformat": 4,
 "nbformat_minor": 0
}
